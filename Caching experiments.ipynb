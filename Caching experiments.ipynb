{
 "cells": [
  {
   "cell_type": "code",
   "execution_count": 96,
   "id": "homeless-scroll",
   "metadata": {},
   "outputs": [],
   "source": [
    "from cachetools import cached, LRUCache, TTLCache, Cache, MRUCache\n",
    "from timeit import repeat\n",
    "import time\n",
    "from functools import lru_cache"
   ]
  },
  {
   "cell_type": "code",
   "execution_count": null,
   "id": "fitting-adams",
   "metadata": {},
   "outputs": [],
   "source": []
  },
  {
   "cell_type": "code",
   "execution_count": 115,
   "id": "dying-refund",
   "metadata": {},
   "outputs": [],
   "source": [
    "#@cached(cache=MRUCache(maxsize=30))\n",
    "@lru_cache(maxsize=3)\n",
    "def recursive_func(inp):\n",
    "    if inp == 1:\n",
    "        return 1\n",
    "    elif inp == 2:\n",
    "        return 2\n",
    "    elif inp == 3:\n",
    "        return 4\n",
    "    else:\n",
    "        return (recursive_func(inp-3)+recursive_func(inp-2)+recursive_func(inp-1))"
   ]
  },
  {
   "cell_type": "code",
   "execution_count": 122,
   "id": "thousand-presence",
   "metadata": {},
   "outputs": [
    {
     "name": "stdout",
     "output_type": "stream",
     "text": [
      "Minimum execution time: 0.008799999704933725\n",
      "[1.5999999050109182e-06, 9.000000318337698e-07, 7.999997251317836e-07, 8.000001798791345e-07, 8.000001798791345e-07, 8.000001798791345e-07, 7.999997251317836e-07, 8.000001798791345e-07, 7.999997251317836e-07, 6.999998731771484e-07]\n"
     ]
    }
   ],
   "source": [
    "setup_code = \"from __main__ import recursive_func\"\n",
    "stmt = \"recursive_func(30)\"\n",
    "times = repeat(setup=setup_code, stmt=stmt, repeat=10, number=10)\n",
    "print(f\"Minimum execution time: {sum(times)*1000}\")\n",
    "print(times)"
   ]
  },
  {
   "cell_type": "code",
   "execution_count": 108,
   "id": "selected-feeling",
   "metadata": {},
   "outputs": [
    {
     "data": {
      "text/plain": [
       "53798080"
      ]
     },
     "execution_count": 108,
     "metadata": {},
     "output_type": "execute_result"
    }
   ],
   "source": [
    "recursive_func(30)"
   ]
  },
  {
   "cell_type": "code",
   "execution_count": 123,
   "id": "original-opportunity",
   "metadata": {},
   "outputs": [
    {
     "data": {
      "text/plain": [
       "CacheInfo(hits=451, misses=30, maxsize=3, currsize=3)"
      ]
     },
     "execution_count": 123,
     "metadata": {},
     "output_type": "execute_result"
    }
   ],
   "source": [
    "recursive_func.cache_info()"
   ]
  },
  {
   "cell_type": "code",
   "execution_count": null,
   "id": "acceptable-calcium",
   "metadata": {},
   "outputs": [],
   "source": []
  }
 ],
 "metadata": {
  "kernelspec": {
   "display_name": "Python 3",
   "language": "python",
   "name": "python3"
  },
  "language_info": {
   "codemirror_mode": {
    "name": "ipython",
    "version": 3
   },
   "file_extension": ".py",
   "mimetype": "text/x-python",
   "name": "python",
   "nbconvert_exporter": "python",
   "pygments_lexer": "ipython3",
   "version": "3.6.12"
  }
 },
 "nbformat": 4,
 "nbformat_minor": 5
}
