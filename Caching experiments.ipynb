{
 "cells": [
  {
   "cell_type": "code",
   "execution_count": 96,
   "id": "flexible-carpet",
   "metadata": {},
   "outputs": [],
   "source": [
    "from cachetools import cached, LRUCache, TTLCache, Cache, MRUCache\n",
    "from timeit import repeat\n",
    "import time\n",
    "from functools import lru_cache"
   ]
  },
  {
   "cell_type": "code",
   "execution_count": null,
   "id": "improved-front",
   "metadata": {},
   "outputs": [],
   "source": []
  },
  {
   "cell_type": "code",
   "execution_count": 128,
   "id": "disciplinary-momentum",
   "metadata": {},
   "outputs": [],
   "source": [
    "#@cached(cache=MRUCache(maxsize=30))\n",
    "@lru_cache(maxsize=2)\n",
    "def recursive_func(inp):\n",
    "    if inp == 1:\n",
    "        return 1\n",
    "    elif inp == 2:\n",
    "        return 2\n",
    "    elif inp == 3:\n",
    "        return 4\n",
    "    else:\n",
    "        return (recursive_func(inp-3)+recursive_func(inp-2)+recursive_func(inp-1))"
   ]
  },
  {
   "cell_type": "code",
   "execution_count": 124,
   "id": "norwegian-surname",
   "metadata": {},
   "outputs": [
    {
     "name": "stdout",
     "output_type": "stream",
     "text": [
      "Minimum execution time: 0.009100000170292333\n",
      "[1.8999999156221747e-06, 9.99999883788405e-07, 8.000001798791345e-07, 8.000001798791345e-07, 6.999998731771484e-07, 8.000001798791345e-07, 6.999998731771484e-07, 7.999997251317836e-07, 8.000001798791345e-07, 8.000001798791345e-07]\n"
     ]
    }
   ],
   "source": [
    "setup_code = \"from __main__ import recursive_func\"\n",
    "stmt = \"recursive_func(30)\"\n",
    "times = repeat(setup=setup_code, stmt=stmt, repeat=10, number=10)\n",
    "print(f\"Minimum execution time: {sum(times)*1000}\")\n",
    "print(times)"
   ]
  },
  {
   "cell_type": "code",
   "execution_count": 129,
   "id": "automated-prayer",
   "metadata": {},
   "outputs": [
    {
     "data": {
      "text/plain": [
       "53798080"
      ]
     },
     "execution_count": 129,
     "metadata": {},
     "output_type": "execute_result"
    }
   ],
   "source": [
    "recursive_func(30)"
   ]
  },
  {
   "cell_type": "code",
   "execution_count": 130,
   "id": "atlantic-blackjack",
   "metadata": {},
   "outputs": [
    {
     "data": {
      "text/plain": [
       "CacheInfo(hits=0, misses=30905041, maxsize=2, currsize=2)"
      ]
     },
     "execution_count": 130,
     "metadata": {},
     "output_type": "execute_result"
    }
   ],
   "source": [
    "recursive_func.cache_info()"
   ]
  },
  {
   "cell_type": "code",
   "execution_count": null,
   "id": "decreased-berry",
   "metadata": {},
   "outputs": [],
   "source": []
  }
 ],
 "metadata": {
  "kernelspec": {
   "display_name": "Python 3",
   "language": "python",
   "name": "python3"
  },
  "language_info": {
   "codemirror_mode": {
    "name": "ipython",
    "version": 3
   },
   "file_extension": ".py",
   "mimetype": "text/x-python",
   "name": "python",
   "nbconvert_exporter": "python",
   "pygments_lexer": "ipython3",
   "version": "3.6.12"
  }
 },
 "nbformat": 4,
 "nbformat_minor": 5
}
